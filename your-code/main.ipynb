{
 "cells": [
  {
   "cell_type": "markdown",
   "id": "dd108eaf",
   "metadata": {},
   "source": [
    "# Git basics lab"
   ]
  },
  {
   "cell_type": "markdown",
   "id": "0c720756",
   "metadata": {},
   "source": [
    "### 1. Change the following piece of code to return \"hello world from < yourname >\""
   ]
  },
  {
   "cell_type": "code",
   "execution_count": null,
   "id": "6e467d5f",
   "metadata": {},
   "outputs": [],
   "source": [
    "print(\"hello world\")"
   ]
  }
 ],
 "metadata": {
  "kernelspec": {
   "display_name": "Python 3 (ipykernel)",
   "language": "python",
   "name": "python3"
  },
  "language_info": {
   "codemirror_mode": {
    "name": "ipython",
    "version": 3
   },
   "file_extension": ".py",
   "mimetype": "text/x-python",
   "name": "python",
   "nbconvert_exporter": "python",
   "pygments_lexer": "ipython3",
   "version": "3.7.11"
  }
 },
 "nbformat": 4,
 "nbformat_minor": 5
}
